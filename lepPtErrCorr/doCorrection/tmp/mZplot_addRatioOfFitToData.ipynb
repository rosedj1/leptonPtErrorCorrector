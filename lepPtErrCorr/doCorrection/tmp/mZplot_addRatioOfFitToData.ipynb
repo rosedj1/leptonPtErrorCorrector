{
 "cells": [
  {
   "cell_type": "code",
   "execution_count": 1,
   "metadata": {
    "collapsed": false
   },
   "outputs": [
    {
     "name": "stdout",
     "output_type": "stream",
     "text": [
      "Welcome to JupyROOT 6.10/09\n"
     ]
    }
   ],
   "source": [
    "import ROOT,argparse, sys, os\n",
    "from ROOT import TRatioPlot, RooFit"
   ]
  },
  {
   "cell_type": "code",
   "execution_count": 3,
   "metadata": {
    "collapsed": false
   },
   "outputs": [],
   "source": [
    "sys.path.append('/home/rosedj1/HiggsMeasurement/CMSSW_8_0_32/src/')\n",
    "sys.path.append('/home/rosedj1/HiggsMeasurement/CMSSW_8_0_32/src/leptonPtErrorCorrector/doCorrection/')"
   ]
  },
  {
   "cell_type": "code",
   "execution_count": 4,
   "metadata": {
    "collapsed": false
   },
   "outputs": [
    {
     "name": "stderr",
     "output_type": "stream",
     "text": [
      "/cvmfs/cms.cern.ch/slc6_amd64_gcc630/lcg/root/6.10.08/lib/ROOT.py:432: UserWarning: \"from ROOT import *\" is not supported under IPython\n",
      "  warnings.warn( '\"from ROOT import *\" is not supported under IPython' )\n"
     ]
    }
   ],
   "source": [
    "from leptonPtErrorCorrector.doCorrection.pTErrCorrector import GetCorrection\n",
    "from PyUtils.fileUtils import copyFile, makeDirs"
   ]
  },
  {
   "cell_type": "markdown",
   "metadata": {},
   "source": [
    "## getLambda1_doBoth.py"
   ]
  },
  {
   "cell_type": "code",
   "execution_count": 5,
   "metadata": {
    "collapsed": true
   },
   "outputs": [],
   "source": [
    "pTLow = 7.0\n",
    "pTHigh = 100\n",
    "etaLow = 0.9 \n",
    "etaHigh = 1.8\n",
    "fs = 'mu'\n",
    "isData = False\n",
    "DEBUG = 1\n",
    "getPara = 0\n",
    "getLambda = 1\n",
    "shapeParaDir = \"/home/rosedj1/HiggsMeasurement/CMSSW_8_0_32/src/leptonPtErrorCorrector/doCorrection/shapeParameters_jake/\"\n",
    "outputDir = \"/home/rosedj1/public_html/Higgs/HiggsMassMeas/ParameterPlotsTests/\"\n",
    "inputDir = \"/raid/raid8/ferrico/HZZ4l/CMSSW_10_2_5/src/leptonPtErrorCorrector/makeSlimTree/output/DY_2018/\"\n",
    "inputfilename = \"DYJetsToLL_M-50_kalman_v4_m2mu_v2.root\"\n",
    "\n",
    "#____________________________________________________________________________________________________\n",
    "### AUTOMATIC STUFF\n",
    "def ParseOption():\n",
    "    parser = argparse.ArgumentParser(description='submit all')\n",
    "    parser.add_argument('--ptLow', dest='ptLow', type=float)\n",
    "    parser.add_argument('--ptHigh', dest='ptHigh', type=float)\n",
    "    parser.add_argument('--etaLow', dest='etaLow', type=float)\n",
    "    parser.add_argument('--etaHigh', dest='etaHigh', type=float)\n",
    "    parser.add_argument('--isData', dest='isData', action='store_true', default=False)\n",
    "    parser.add_argument('--fs', dest='fs', type=str)\n",
    "    parser.add_argument('--shapeParaDir', dest='shapeParaDir', type=str)\n",
    "    parser.add_argument('--inputDir', dest='inputDir', type=str)\n",
    "    parser.add_argument('--outputDir', dest='outputDir', type=str)\n",
    "    parser.add_argument('--inputFileName', dest='inputFileName', type=str)\n",
    "    parser.add_argument('--debug', dest='debug', type=int)\n",
    "    parser.add_argument('--getPara', dest='getPara', type=int)\n",
    "    parser.add_argument('--getLambda', dest='getLambda', type=int)\n",
    "    args = parser.parse_args()\n",
    "    return args\n",
    "\n",
    "#args=ParseOption()\n",
    "## Flags passed in from doLambda1.sh\n",
    "# pTLow          = args.ptLow           \n",
    "# pTHigh         = args.ptHigh          \n",
    "# etaLow         = args.etaLow          \n",
    "# etaHigh        = args.etaHigh         \n",
    "# fs             = args.fs              \n",
    "# isData         = args.isData          \n",
    "# shapeParaDir   = args.shapeParaDir\n",
    "# inputDir       = args.inputDir\n",
    "# outputDir      = args.outputDir #getLambda1/\"\n",
    "# inputfilename  = args.inputFileName\n",
    "# DEBUG          = args.debug\n",
    "# getPara        = args.getPara\n",
    "# getLambda      = args.getLambda\n",
    "## Make output dirs if they don't exist and copy index.php file.\n",
    "makeDirs(outputDir)\n",
    "makeDirs(shapeParaDir)\n",
    "copyFile(\"/home/rosedj1/\",\"index.php\",outputDir)\n",
    "sys.path.append(shapeParaDir)\n",
    "\n",
    "#_____________________________________________________________________________________\n",
    "### MAIN\n",
    "binEdge = {'pTLow': pTLow, 'pTHigh':pTHigh, 'etaLow':etaLow, 'etaHigh':etaHigh}\n",
    "doLambda1 = True\n",
    "lambdas = {'lambda1':1, 'lambda2':1} # starting values for all lambdas\n",
    "shapePara = {\"mean\":0, \"alpha\":0, \"n\":0, \"tau\":0, \"fsig\":0} # starting values for all parameters\n",
    "\n",
    "path = {}\n",
    "path['input']    = inputDir\n",
    "path['output']   = outputDir\n",
    "path['filename'] = inputfilename\n",
    "#path['input'] = \"/raid/raid9/mhl/HZZ4L_Run2_post2016ICHEP/outputRoot/DY_2015MC_kalman_v4_NOmassZCut_addpTScaleCorrection/\"\n",
    "#path['input'] = \"/raid/raid9/mhl/HZZ4L_Run2_post2016ICHEP/outputRoot/DY_2015MC_kalman_v4_NOmassZCut_useLepFSRForMassZ/\"\n",
    "#path['input'] = \"/raid/raid7/rosedj1/ForPeeps/ForFilippo/\"\n",
    "#path['output'] = \"/home/mhl/public_html/2016/20161125_mass/test/\" #getLambda1/\""
   ]
  },
  {
   "cell_type": "markdown",
   "metadata": {},
   "source": [
    "## Get Parameters"
   ]
  },
  {
   "cell_type": "code",
   "execution_count": 6,
   "metadata": {
    "collapsed": false
   },
   "outputs": [
    {
     "name": "stdout",
     "output_type": "stream",
     "text": [
      "Getting Lambda...\n",
      "tree opened\n",
      "\n",
      "Parameters of getCorr_getLambda object BEFORE __import__(getCorr_getPara):\n",
      "\n",
      "etaLow : 0.9\n",
      "pTLow_1st : 7.0\n",
      "GENZ_width : 2.44\n",
      "treeFile : <ROOT.TFile object (\"/raid/raid8/ferrico/HZZ4l/CMSSW_10_2_5/src/leptonPtErrorCorrector/makeSlimTree/output/DY_2018/DYJetsToLL_M-50_kalman_v4_m2mu_v2.root\") at 0x299a4d0>\n",
      "tag : doLambda1_getLambda_mu\n",
      "outpath : /home/rosedj1/public_html/Higgs/HiggsMassMeas/ParameterPlotsTests/\n",
      "etaHigh : 1.8\n",
      "massZErr_hi : 7.2\n",
      "Data_Zlls : <ROOT.RooDataSet object at 0x6572b64>\n",
      "Data_Zlls_w : <ROOT.RooDataSet object at 0x6572e04>\n",
      "etaLow_1st : 0.9\n",
      "filename : DYJetsToLL_M-50_kalman_v4_m2mu_v2.root\n",
      "pTHigh : 100\n",
      "rFit : <ROOT.RooFitResult object at 0x5a59b80>\n",
      "GENZ_mean : 91.19\n",
      "Lambdas : {'lambda1': 1, 'lambda2': 1, 'lambda': 1}\n",
      "fs : mu\n",
      "massZErr_lo : 0.2\n",
      "pTHigh_1st : 100\n",
      "Data_Zlls_binned : <ROOT.RooDataHist object at 0x656aa40>\n",
      "shapePara : {'tau': 0, 'alpha': 0, 'n': 0, 'fsig': 0, 'mean': 0}\n",
      "cut :  (massZ > 60 && massZ < 120) &&  (massZErr > 0.2 && massZErr < 7.2) &&  (pT1 > 7.0 && pT1 < 100) && (abs(eta1) > 0.9 && abs(eta1) < 1.8) &&  (pT2 > 7.0 && pT2 < 100) && (abs(eta2) > 0.9 && abs(eta2) < 1.8)\n",
      "etaHigh_1st : 1.8\n",
      "massZ_hi : 120\n",
      "name : DYJetsToLL_M-50_kalman_v4_m2mu_v2_Pt_7.0_to_100_Eta_0.9_to_1.8_doLambda1_getLambda_mu\n",
      "massZ_lo : 60\n",
      "tree : <ROOT.TTree object (\"passedEvents\") at 0x5b62f50>\n",
      "selectors : {}\n",
      "w : <ROOT.RooWorkspace object (\"w\") at 0x644d810>\n",
      "pTLow : 7.0\n",
      "doLambda1 : True\n",
      "\n",
      "getCorr_getLambda.shapePara after __import__ and before DriverGetLambda():\n",
      "{'tau': 0, 'alpha': 0, 'n': 0, 'fsig': 0, 'mean': 0}\n",
      "etaLow : 0.9\n",
      "pTLow_1st : 7.0\n",
      "GENZ_width : 2.44\n",
      "treeFile : <ROOT.TFile object (\"/raid/raid8/ferrico/HZZ4l/CMSSW_10_2_5/src/leptonPtErrorCorrector/makeSlimTree/output/DY_2018/DYJetsToLL_M-50_kalman_v4_m2mu_v2.root\") at 0x299a4d0>\n",
      "tag : doLambda1_getLambda_mu\n",
      "outpath : /home/rosedj1/public_html/Higgs/HiggsMassMeas/ParameterPlotsTests/\n",
      "etaHigh : 1.8\n",
      "massZErr_hi : 7.2\n",
      "Data_Zlls : <ROOT.RooDataSet object at 0x6572b64>\n",
      "Data_Zlls_w : <ROOT.RooDataSet object at 0x6572e04>\n",
      "etaLow_1st : 0.9\n",
      "filename : DYJetsToLL_M-50_kalman_v4_m2mu_v2.root\n",
      "pTHigh : 100\n",
      "rFit : <ROOT.RooFitResult object at 0x5a59b80>\n",
      "GENZ_mean : 91.19\n",
      "Lambdas : {'lambda1': 1, 'lambda2': 1, 'lambda': 1}\n",
      "fs : mu\n",
      "massZErr_lo : 0.2\n",
      "pTHigh_1st : 100\n",
      "Data_Zlls_binned : <ROOT.RooDataHist object at 0x656aa40>\n",
      "shapePara : {'tau': 0, 'alpha': 0, 'n': 0, 'fsig': 0, 'mean': 0}\n",
      "cut :  (massZ > 60 && massZ < 120) &&  (massZErr > 0.2 && massZErr < 7.2) &&  (pT1 > 7.0 && pT1 < 100) && (abs(eta1) > 0.9 && abs(eta1) < 1.8) &&  (pT2 > 7.0 && pT2 < 100) && (abs(eta2) > 0.9 && abs(eta2) < 1.8)\n",
      "etaHigh_1st : 1.8\n",
      "massZ_hi : 120\n",
      "name : DYJetsToLL_M-50_kalman_v4_m2mu_v2_Pt_7.0_to_100_Eta_0.9_to_1.8_doLambda1_getLambda_mu\n",
      "massZ_lo : 60\n",
      "tree : <ROOT.TTree object (\"passedEvents\") at 0x5b62f50>\n",
      "selectors : {}\n",
      "w : <ROOT.RooWorkspace object (\"w\") at 0x644d810>\n",
      "pTLow : 7.0\n",
      "doLambda1 : True\n",
      "\n",
      "tmpPara_.shapePara after __import__ and before DriverGetLambda():\n",
      "{'mean': 0.1619735634525037, 'tau': -0.06149809146694063, 'n': 1.4385883048901231, 'fsig': 0.9834970195980022, 'alpha': 1.6622591731056513}\n",
      "etaLow : 0.9\n",
      "pTLow_1st : 7.0\n",
      "GENZ_width : 2.44\n",
      "treeFile : <ROOT.TFile object (\"/raid/raid8/ferrico/HZZ4l/CMSSW_10_2_5/src/leptonPtErrorCorrector/makeSlimTree/output/DY_2018/DYJetsToLL_M-50_kalman_v4_m2mu_v2.root\") at 0x299a4d0>\n",
      "tag : doLambda1_getLambda_mu\n",
      "outpath : /home/rosedj1/public_html/Higgs/HiggsMassMeas/ParameterPlotsTests/\n",
      "etaHigh : 1.8\n",
      "massZErr_hi : 7.2\n",
      "Data_Zlls : <ROOT.RooDataSet object at 0x6572b64>\n",
      "Data_Zlls_w : <ROOT.RooDataSet object at 0x6572e04>\n",
      "etaLow_1st : 0.9\n",
      "filename : DYJetsToLL_M-50_kalman_v4_m2mu_v2.root\n",
      "pTHigh : 100\n",
      "rFit : <ROOT.RooFitResult object at 0x5a59b80>\n",
      "GENZ_mean : 91.19\n",
      "Lambdas : {'lambda1': 1, 'lambda2': 1, 'lambda': 1}\n",
      "fs : mu\n",
      "massZErr_lo : 0.2\n",
      "pTHigh_1st : 100\n",
      "Data_Zlls_binned : <ROOT.RooDataHist object at 0x656aa40>\n",
      "shapePara : {'tau': 0, 'alpha': 0, 'n': 0, 'fsig': 0, 'mean': 0}\n",
      "cut :  (massZ > 60 && massZ < 120) &&  (massZErr > 0.2 && massZErr < 7.2) &&  (pT1 > 7.0 && pT1 < 100) && (abs(eta1) > 0.9 && abs(eta1) < 1.8) &&  (pT2 > 7.0 && pT2 < 100) && (abs(eta2) > 0.9 && abs(eta2) < 1.8)\n",
      "etaHigh_1st : 1.8\n",
      "massZ_hi : 120\n",
      "name : DYJetsToLL_M-50_kalman_v4_m2mu_v2_Pt_7.0_to_100_Eta_0.9_to_1.8_doLambda1_getLambda_mu\n",
      "massZ_lo : 60\n",
      "tree : <ROOT.TTree object (\"passedEvents\") at 0x5b62f50>\n",
      "selectors : {}\n",
      "w : <ROOT.RooWorkspace object (\"w\") at 0x644d810>\n",
      "pTLow : 7.0\n",
      "doLambda1 : True\n",
      "\n",
      "getCorr_getLambda.shapePara:\n",
      "{'mean': 0.1619735634525037, 'tau': -0.06149809146694063, 'n': 1.4385883048901231, 'fsig': 0.9834970195980022, 'alpha': 1.6622591731056513}\n",
      "original RooDataSet has 1924362 events\n",
      "copied RooDataSet has 1924362 events\n",
      "The cuts used are:\n",
      " (massZ > 60 && massZ < 120) &&  (massZErr > 0.2 && massZErr < 7.2) &&  (pT1 > 7.0 && pT1 < 100) && (abs(eta1) > 0.9 && abs(eta1) < 1.8) &&  (pT2 > 7.0 && pT2 < 100) && (abs(eta2) > 0.9 && abs(eta2) < 1.8)\n",
      "dataset successfully made for lambda\n",
      "\n",
      "\n",
      "Calling MakeModel_getLambda.\n",
      "Fixed parameters going into CB:\n",
      "mean : 0.161973563453\n",
      "tau : -0.0614980914669\n",
      "n : 1.43858830489\n",
      "fsig : 0.983497019598\n",
      "alpha : 1.66225917311\n",
      "model successfully made for lambda\n",
      "\n",
      "Number of entries in Dat_Zlls_w: 1924362\n",
      "Using a binned fit.\n",
      "fit successfully done for lambda\n",
      "\n",
      "w.var('lambda').getVal() is: 1.2339322532\n",
      "saveLambda is (iteration stuff): lambda: 1.2339322532, lambda1: 1, lambda2: 1, lambda*lambda2: 1.2339322532\n",
      "acquired lambda\n",
      "\n",
      "plot successfully made for lambda\n",
      "\n",
      "\n",
      "Parameters of getCorr_getLambda.shapePara AFTER fit:\n",
      "etaLow : 0.9\n",
      "pTLow_1st : 7.0\n",
      "GENZ_width : 2.44\n",
      "treeFile : <ROOT.TFile object (\"/raid/raid8/ferrico/HZZ4l/CMSSW_10_2_5/src/leptonPtErrorCorrector/makeSlimTree/output/DY_2018/DYJetsToLL_M-50_kalman_v4_m2mu_v2.root\") at 0x299a4d0>\n",
      "tag : doLambda1_getLambda_mu\n",
      "outpath : /home/rosedj1/public_html/Higgs/HiggsMassMeas/ParameterPlotsTests/\n",
      "etaHigh : 1.8\n",
      "massZErr_hi : 7.2\n",
      "Data_Zlls : <ROOT.RooDataSet* object (\"Zlls\") at 0x65730a4>\n",
      "Data_Zlls_w : <ROOT.RooDataSet object (\"Zlls\") at 0x6573344>\n",
      "etaLow_1st : 0.9\n",
      "filename : DYJetsToLL_M-50_kalman_v4_m2mu_v2.root\n",
      "pTHigh : 100\n",
      "rFit : <ROOT.RooFitResult object (\"fitresult_model_Zlls_binned\") at 0xa914200>\n",
      "GENZ_mean : 91.19\n",
      "Lambdas : {'lambda1': 1, 'lambda2': 1, 'lambda': 1.2339322531965662}\n",
      "fs : mu\n",
      "massZErr_lo : 0.2\n",
      "pTHigh_1st : 100\n",
      "Data_Zlls_binned : <ROOT.RooDataHist object (\"Zlls_binned\") at 0xa248630>\n",
      "shapePara : {'mean': 0.1619735634525037, 'tau': -0.06149809146694063, 'n': 1.4385883048901231, 'fsig': 0.9834970195980022, 'alpha': 1.6622591731056513}\n",
      "cut :  (massZ > 60 && massZ < 120) &&  (massZErr > 0.2 && massZErr < 7.2) &&  (pT1 > 7.0 && pT1 < 100) && (abs(eta1) > 0.9 && abs(eta1) < 1.8) &&  (pT2 > 7.0 && pT2 < 100) && (abs(eta2) > 0.9 && abs(eta2) < 1.8)\n",
      "etaHigh_1st : 1.8\n",
      "massZ_hi : 120\n",
      "name : DYJetsToLL_M-50_kalman_v4_m2mu_v2_Pt_7.0_to_100_Eta_0.9_to_1.8_doLambda1_getLambda_mu\n",
      "massZ_lo : 60\n",
      "tree : <ROOT.TTree object (\"passedEvents\") at 0x5b62f50>\n",
      "selectors : {}\n",
      "w : <ROOT.RooWorkspace object (\"w\") at 0x644d810>\n",
      "pTLow : 7.0\n",
      "doLambda1 : True\n",
      "getLambda1_doLambda COMPLETE\n",
      "\n",
      "Real time 0:00:10, CP time 10.210\n",
      "Real time 0:00:10, CP time 10.210\n",
      "Real time 0:00:02, CP time 2.290\n",
      "Real time 0:00:12, CP time 12.500, 2 slices\n",
      "Real time 0:00:02, CP time 2.290\n",
      "Real time 0:00:14, CP time 14.790, 3 slices\n",
      ".................................................................................................................................................................................................................................................................................................................................................................................................................................................................................................................................................."
     ]
    },
    {
     "name": "stderr",
     "output_type": "stream",
     "text": [
      "Warning in <TClass::Init>: no dictionary for class ROOT::TIOFeatures is available\n",
      "Warning in <TTreeReader::SetEntryBase()>: The TTree / TChain has an associated TEntryList. TTreeReader ignores TEntryLists unless you construct the TTreeReader passing a TEntryList.\n",
      "Info in <TCanvas::Print>: png file /home/rosedj1/public_html/Higgs/HiggsMassMeas/ParameterPlotsTests/DYJetsToLL_M-50_kalman_v4_m2mu_v2_Pt_7.0_to_100_Eta_0.9_to_1.8_doLambda1_getLambda_mu.png has been created\n",
      "Info in <TCanvas::Print>: pdf file /home/rosedj1/public_html/Higgs/HiggsMassMeas/ParameterPlotsTests/DYJetsToLL_M-50_kalman_v4_m2mu_v2_Pt_7.0_to_100_Eta_0.9_to_1.8_doLambda1_getLambda_mu.pdf has been created\n"
     ]
    }
   ],
   "source": [
    "#_____ Get Parameters _____#\n",
    "if getPara and not getLambda:\n",
    "    print \"Getting parameters...\"\n",
    "    ### Get CB parameters\n",
    "    # makes a GetCorrection object\n",
    "    # shapePara starts off with all zeros\n",
    "    tag = \"doLambda1_getPara_\" + fs\n",
    "    getCorr_getPara = GetCorrection(binEdge, isData, fs, doLambda1, lambdas, shapePara, path, tag) \n",
    "\n",
    "    if DEBUG:\n",
    "        print \"\\nParameters of getCorr_getPara object BEFORE fit:\"\n",
    "        for key,val in getCorr_getPara.__dict__.items():\n",
    "            print key,\":\",val\n",
    "\n",
    "    # then it goes through the grind, and the parameters get updated\n",
    "    PmassZ, chi2, dof, ch, latex = getCorr_getPara.DriverGetPara()\n",
    "\n",
    "    if DEBUG:\n",
    "        print \"\\nParameters of getCorr_getPara object AFTER fit:\"\n",
    "        for key,val in getCorr_getPara.__dict__.items():\n",
    "            print key,\":\",val\n",
    "\n",
    "    # update global shapePara dict\n",
    "    shapePara = getCorr_getPara.shapePara\n",
    "    with open(shapeParaDir + getCorr_getPara.name.replace('.','p') + '.py', 'w') as f:\n",
    "    #with open('shapeParameters/' + getCorr_getPara.name.replace('.','p') + '.py', 'w') as f:\n",
    "         f.write('shapePara = ' + str(shapePara) + ' \\n')\n",
    "    print \"getLambda1_doPara.py COMPLETE\\n\\n\"\n",
    "\n",
    "\n",
    "#_____ Get Lambda _____#\n",
    "elif getLambda and not getPara:\n",
    "    print \"Getting Lambda...\"\n",
    "    tag = \"doLambda1_getLambda_\" + fs\n",
    "    getCorr_getLambda = GetCorrection(binEdge, isData, fs, doLambda1, lambdas, shapePara, path, tag)\n",
    "    #tmpPara_ =  __import__('test', globals(), locals())\n",
    "\n",
    "    if DEBUG:\n",
    "        print \"\\nParameters of getCorr_getLambda object BEFORE __import__(getCorr_getPara):\\n\"\n",
    "        for key,val in getCorr_getLambda.__dict__.items():\n",
    "            print key,\":\",val\n",
    "\n",
    "    ## ???\n",
    "    tmpPara_ =  __import__(getCorr_getLambda.name.replace('getLambda', 'getPara').replace('.','p'), globals(), locals())\n",
    "\n",
    "    if DEBUG:\n",
    "        print \"\\ngetCorr_getLambda.shapePara after __import__ and before DriverGetLambda():\\n\",getCorr_getLambda.shapePara\n",
    "        for key,val in getCorr_getLambda.__dict__.items():\n",
    "            print key,\":\",val\n",
    "        \n",
    "        print \"\\ntmpPara_.shapePara after __import__ and before DriverGetLambda():\\n\",tmpPara_.shapePara\n",
    "        for key,val in getCorr_getLambda.__dict__.items():\n",
    "            print key,\":\",val\n",
    "\n",
    "    getCorr_getLambda.shapePara = tmpPara_.shapePara\n",
    "    print \"\\ngetCorr_getLambda.shapePara:\\n\", getCorr_getLambda.shapePara\n",
    "\n",
    "    # The big boy. This keeps the old parameters, finds sigma and lambda.\n",
    "    PmassZ, chi2, dof, ch, latex = getCorr_getLambda.DriverGetLambda()\n",
    "\n",
    "    if DEBUG:\n",
    "        print \"\\nParameters of getCorr_getLambda.shapePara AFTER fit:\"\n",
    "        for key,val in getCorr_getLambda.__dict__.items():\n",
    "            print key,\":\",val\n",
    "    print \"getLambda1_doLambda COMPLETE\\n\"\n",
    "\n",
    "else:\n",
    "    print \"\"\"   ERROR!!!\n",
    "             Either both getPara and getLambda were specified\n",
    "             at the same time, or neither was given!\n",
    "             Exiting now.\"\"\"\n",
    "    sys.exit()"
   ]
  },
  {
   "cell_type": "code",
   "execution_count": 7,
   "metadata": {
    "collapsed": false
   },
   "outputs": [
    {
     "data": {
      "text/plain": [
       "<ROOT.RooRealVar object (\"massZ\") at 0xa62d970>"
      ]
     },
     "execution_count": 7,
     "metadata": {},
     "output_type": "execute_result"
    }
   ],
   "source": [
    "getCorr_getLambda.w.var(\"massZ\")"
   ]
  },
  {
   "cell_type": "code",
   "execution_count": 8,
   "metadata": {
    "collapsed": false
   },
   "outputs": [
    {
     "name": "stdout",
     "output_type": "stream",
     "text": [
      "alpha 1.66225917311\n",
      "breitWignerGamma 2.44\n",
      "breitWignerMean 91.19\n",
      "fsig 0.983497019598\n",
      "lambda 1.2339322532\n",
      "massZ 90.0\n",
      "massZErr 3.7\n",
      "mean 0.161973563453\n",
      "n 1.43858830489\n",
      "tau -0.0614980914669\n"
     ]
    }
   ],
   "source": [
    "for each in \"alpha,breitWignerGamma,breitWignerMean,fsig,lambda,massZ,massZErr,mean,n,tau\".split(','):\n",
    "    print each, getCorr_getLambda.w.var(each).getVal()\n",
    "    \n",
    "# getCorr_getLambda.w.var(\"breitWignerGamma\").getVal()\n",
    "# getCorr_getLambda.w.var(\"breitWignerMean\").getVal()\n",
    "# getCorr_getLambda.w.var(\"fsig\").getVal()\n",
    "# getCorr_getLambda.w.var(\"lambda\").getVal()\n",
    "# getCorr_getLambda.w.var(\"massZ\").getVal()\n",
    "# getCorr_getLambda.w.var(\"massZErr\").getVal()\n",
    "# getCorr_getLambda.w.var(\"mean\").getVal()\n",
    "# getCorr_getLambda.w.var(\"n\").getVal()\n",
    "# getCorr_getLambda.w.var(\"tau\").getVal()"
   ]
  },
  {
   "cell_type": "code",
   "execution_count": 9,
   "metadata": {
    "collapsed": false
   },
   "outputs": [
    {
     "name": "stdout",
     "output_type": "stream",
     "text": [
      "RooDataSet::Zlls[massZ,massZErr,weight] = 1924362 entries\n"
     ]
    }
   ],
   "source": [
    "getCorr_getLambda.Data_Zlls.Print()"
   ]
  },
  {
   "cell_type": "code",
   "execution_count": 10,
   "metadata": {
    "collapsed": false
   },
   "outputs": [
    {
     "name": "stdout",
     "output_type": "stream",
     "text": [
      "OBJ: RooArgSet\t\tSet of RooAbsArg objects : 0 at: 0x6573294\n"
     ]
    }
   ],
   "source": [
    "rooargset = getCorr_getLambda.Data_Zlls.get()\n",
    "rooargset.ls()"
   ]
  },
  {
   "cell_type": "code",
   "execution_count": 11,
   "metadata": {
    "collapsed": false
   },
   "outputs": [
    {
     "data": {
      "image/png": "[encoded data removed]",
      "text/plain": [
       "<IPython.core.display.Image object>"
      ]
     },
     "metadata": {},
     "output_type": "display_data"
    }
   ],
   "source": [
    "ch.Draw()"
   ]
  },
  {
   "cell_type": "code",
   "execution_count": 12,
   "metadata": {
    "collapsed": false
   },
   "outputs": [
    {
     "data": {
      "text/plain": [
       "1"
      ]
     },
     "execution_count": 12,
     "metadata": {},
     "output_type": "execute_result"
    }
   ],
   "source": [
    "getCorr_getLambda.rFit.floatParsFinal().getSize()"
   ]
  },
  {
   "cell_type": "code",
   "execution_count": 13,
   "metadata": {
    "collapsed": false
   },
   "outputs": [
    {
     "data": {
      "text/plain": [
       "<ROOT.RooFitResult object (\"fitresult_model_Zlls_binned\") at 0xa914200>"
      ]
     },
     "execution_count": 13,
     "metadata": {},
     "output_type": "execute_result"
    }
   ],
   "source": [
    "getCorr_getLambda.rFit"
   ]
  },
  {
   "cell_type": "code",
   "execution_count": 14,
   "metadata": {
    "collapsed": false
   },
   "outputs": [
    {
     "name": "stdout",
     "output_type": "stream",
     "text": [
      "\n",
      "RooWorkspace(w) workspace contents\n",
      "\n",
      "variables\n",
      "---------\n",
      "(alpha,breitWignerGamma,breitWignerMean,fsig,lambda,massZ,massZErr,mean,n,tau)\n",
      "\n",
      "p.d.f.s\n",
      "-------\n",
      "RooBreitWigner::BW[ x=massZ mean=breitWignerMean width=breitWignerGamma ] = 0.344293\n",
      "RooCBShape::CB[ m=massZ m0=mean sigma=sigma alpha=alpha n=n ] = 8.33271e-85\n",
      "RooFFTConvPdf::CBxBW[ BW(massZ) (*) CB(massZ) ] = 0.067622\n",
      "RooExponential::bkg[ x=massZ c=tau ] = 0.00394689\n",
      "RooAddPdf::model[ fsig * CBxBW + [%] * bkg ] = 20.201\n",
      "\n",
      "functions\n",
      "--------\n",
      "RooFormulaVar::sigma[ actualVars=(lambda,massZErr) formula=\"@1*@0\" ] = 4.56555\n",
      "\n",
      "embedded precalculated expensive components\n",
      "-------------------------------------------\n",
      "uid = 0 key=CBxBW_BW_CONV_CB_CACHEHIST_Obs[massZ]_BufFrac0.1_BufStrat0 value=RooDataHist::CBxBW_BW_CONV_CB_CACHEHIST_Obs[massZ]_BufFrac0.1_BufStrat0 parameters=( alpha=1.66226 breitWignerGamma=2.44 breitWignerMean=91.19 lambda=1.23393 massZErr=3.7 mean=0.161974 n=1.43859 )\n"
     ]
    }
   ],
   "source": [
    "getCorr_getLambda.w.Print()"
   ]
  },
  {
   "cell_type": "code",
   "execution_count": 15,
   "metadata": {
    "collapsed": false
   },
   "outputs": [
    {
     "data": {
      "text/plain": [
       "<ROOT.RooFFTConvPdf object (\"CBxBW\") at 0xa5a3e80>"
      ]
     },
     "execution_count": 15,
     "metadata": {},
     "output_type": "execute_result"
    }
   ],
   "source": [
    "getCorr_getLambda.w.pdf(\"CBxBW\")"
   ]
  },
  {
   "cell_type": "code",
   "execution_count": 16,
   "metadata": {
    "collapsed": false
   },
   "outputs": [
    {
     "data": {
      "text/plain": [
       "<ROOT.RooPlot object (\"frame_massZ_ae7d990\") at 0xae7d990>"
      ]
     },
     "execution_count": 16,
     "metadata": {},
     "output_type": "execute_result"
    }
   ],
   "source": [
    "getCorr_getLambda.w.var(\"massZ\").frame(RooFit.Bins(10))"
   ]
  },
  {
   "cell_type": "code",
   "execution_count": 17,
   "metadata": {
    "collapsed": true
   },
   "outputs": [],
   "source": [
    "rpl = TRatioPlot()"
   ]
  },
  {
   "cell_type": "markdown",
   "metadata": {},
   "source": [
    "# Recreate the fit plot."
   ]
  },
  {
   "cell_type": "code",
   "execution_count": 23,
   "metadata": {
    "collapsed": false
   },
   "outputs": [
    {
     "data": {
      "text/plain": [
       "<ROOT.RooPlot object (\"frame_massZ_aec41e0\") at 0xaec41e0>"
      ]
     },
     "execution_count": 23,
     "metadata": {},
     "output_type": "execute_result"
    }
   ],
   "source": [
    "fitplotframe = getCorr_getLambda.w.var(\"massZ\").frame(RooFit.Bins(50))\n",
    "fitplotframe.GetXaxis().SetTitle(\"m_{ll} [GeV]\")\n",
    "fitplotframe.GetYaxis().SetTitleOffset(1.1)\n",
    "\n",
    "getCorr_getLambda.Data_Zlls_w.plotOn(fitplotframe)"
   ]
  },
  {
   "cell_type": "code",
   "execution_count": 19,
   "metadata": {
    "collapsed": false
   },
   "outputs": [
    {
     "data": {
      "text/plain": [
       "<ROOT.RooFitResult object (\"fitresult_model_Zlls_binned\") at 0xa914200>"
      ]
     },
     "execution_count": 19,
     "metadata": {},
     "output_type": "execute_result"
    }
   ],
   "source": [
    "getCorr_getLambda.rFit"
   ]
  },
  {
   "cell_type": "code",
   "execution_count": 26,
   "metadata": {
    "collapsed": false
   },
   "outputs": [
    {
     "data": {
      "image/png": "[encoded data removed]",
      "text/plain": [
       "<IPython.core.display.Image object>"
      ]
     },
     "metadata": {},
     "output_type": "display_data"
    }
   ],
   "source": [
    "#c4 = ROOT.TCanvas(\"c4\",\"c4\",750,600)\n",
    "c4.Draw()\n",
    "fitplotframe.Draw()\n",
    "#c3.SaveAs(\"/home/rosedj1/public_html/Higgs/HiggsMassMeas/ParameterPlotsTests/DELETEhim.png\")"
   ]
  },
  {
   "cell_type": "code",
   "execution_count": null,
   "metadata": {
    "collapsed": true
   },
   "outputs": [],
   "source": []
  }
 ],
 "metadata": {
  "kernelspec": {
   "display_name": "Python 2",
   "language": "python",
   "name": "python2"
  },
  "language_info": {
   "codemirror_mode": {
    "name": "ipython",
    "version": 2
   },
   "file_extension": ".py",
   "mimetype": "text/x-python",
   "name": "python",
   "nbconvert_exporter": "python",
   "pygments_lexer": "ipython2",
   "version": "2.7.11"
  }
 },
 "nbformat": 4,
 "nbformat_minor": 2
}
